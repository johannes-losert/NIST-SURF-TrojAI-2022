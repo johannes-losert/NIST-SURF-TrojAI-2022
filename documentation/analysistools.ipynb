{
 "cells": [
  {
   "cell_type": "markdown",
   "id": "9fbb9de8",
   "metadata": {},
   "source": [
    "# Reproducibility of AI Trojan Detector Results "
   ]
  },
  {
   "cell_type": "markdown",
   "id": "e01886d1",
   "metadata": {},
   "source": [
    "#### Links\n",
    "gitlab for SURF Project: https://gitlab.nist.gov/gitlab/dcj/2022-surf-trojai/\n",
    "\n",
    "trojai example github: https://github.com/usnistgov/trojai-example/ \n",
    "\n",
    "\n",
    "### Setting up Slurm\n",
    "\n",
    "If you haven't used slurm before, follow this tutorial to get you started\n",
    "\n",
    "slurm tutorial: https://gitlab.nist.gov/gitlab/wtk/isg-wiki/-/wikis/Slurm-Nodes \n"
   ]
  },
  {
   "cell_type": "markdown",
   "id": "dd9b41b3",
   "metadata": {},
   "source": [
    "## Updating infoTrojAI.csv and tokenizerinfo.csv\n",
    "\n",
    "If it's been a while since the August 2022, you will want to update these files. If you follow the gitlab link (https://gitlab.nist.gov/gitlab/dcj/2022-surf-trojai/) and go to testing/utilityCSVs, you should find two bash (.sh) files corresponding to infoTrojAI.csv and tokenizerinfo.csv. Transfer these to any NIST HPC node and run them. Place their outputs in the utilityCSVs folder"
   ]
  },
  {
   "cell_type": "markdown",
   "id": "ac8d9a38",
   "metadata": {},
   "source": [
    "## Finding deterministic containers"
   ]
  },
  {
   "cell_type": "markdown",
   "id": "6f6076a0",
   "metadata": {},
   "source": [
    "#### Determinism \n",
    "- To find deterministic containers I first ran every container 3 times and collected the results in a csv file.\n",
    "\n",
    "- I then turned this csv file into a pandas dataframe and dropped every container that had a standard deviation greater than epsilon (floating point error boung - usually around 2e-16).\n",
    "\n",
    "- The resulting dataframe represents the deterministic containers."
   ]
  },
  {
   "cell_type": "markdown",
   "id": "8d2fb9c9",
   "metadata": {},
   "source": [
    "#### Generating the tests for determinism\n",
    "\n",
    "The below python snippet will generate a file called \"TEST.sh\" which you can run on any NIST Node with Slurm support. These are the tests I ran to find deterministic containers.\n",
    "\n",
    "Example:\n",
    "\n",
    "bash TEST.sh"
   ]
  },
  {
   "cell_type": "code",
   "execution_count": 1,
   "id": "99ce34b9",
   "metadata": {},
   "outputs": [],
   "source": [
    "import os\n",
    "import sys\n",
    "\n",
    "os.environ['KMP_DUPLICATE_LIB_OK']='True'\n",
    "\n",
    "#Full path to testing directory on your machine\n",
    "\n",
    "FULLPATH = r'C:\\Users\\jal20\\2022-surf-trojai\\testing'\n",
    "\n",
    "\n",
    "sys.path.insert(0, FULLPATH)"
   ]
  },
  {
   "cell_type": "code",
   "execution_count": 2,
   "id": "7bd21e76",
   "metadata": {},
   "outputs": [],
   "source": [
    "from scriptmaker import auto"
   ]
  },
  {
   "cell_type": "markdown",
   "id": "8c19523d",
   "metadata": {},
   "source": []
  },
  {
   "cell_type": "code",
   "execution_count": 3,
   "id": "deb0430e",
   "metadata": {},
   "outputs": [],
   "source": [
    "HOMEDIR = r\"C:\\Users\\jal20\\2022-surf-trojai\\documentation\"\n",
    "NODE = r\"ENTER THE NAME OF A NIST HPC NODE YOU HAVE ACCESS TO\""
   ]
  },
  {
   "cell_type": "code",
   "execution_count": 4,
   "id": "6db8e0a0",
   "metadata": {},
   "outputs": [],
   "source": [
    "#Generate Round 9 Determinism tests in TEST.sh file\n",
    "auto(9,node=NODE ,homedir = HOMEDIR, iterations=3,cpus=10,model=0,driver=\"default\", teams =\"ALL\" ,custom=False)\n",
    "\n",
    "#Append Round 9 Determinism tests to TEST.sh file\n",
    "auto(4,node=NODE ,homedir = HOMEDIR, iterations=3,cpus=10,model=0,driver=\"default\", teams =\"ALL\" ,custom=False)"
   ]
  },
  {
   "cell_type": "code",
   "execution_count": 5,
   "id": "5fe67040",
   "metadata": {},
   "outputs": [],
   "source": [
    "from scriptmaker import compiler"
   ]
  },
  {
   "cell_type": "code",
   "execution_count": 6,
   "id": "708d77ea",
   "metadata": {},
   "outputs": [
    {
     "name": "stdout",
     "output_type": "stream",
     "text": [
      "C:\\Users\\jal20\\2022-surf-trojai\\testing\n",
      "C:\\Users\\jal20\\2022-surf-trojai\\testing\n"
     ]
    }
   ],
   "source": [
    "\n",
    "#Generate a compiler file that  \n",
    "compiler(9, experiment = \"Determinism9\", node=NODE ,homedir = HOMEDIR, iterations=3,cpus=10,model=0,driver=\"default\", teams =\"ALL\" ,custom=False)\n",
    "\n",
    "#Round 4 Determinism\n",
    "compiler(4, experiment = \"Determinism4\", node=NODE ,homedir = HOMEDIR, iterations=3,cpus=10,model=0,driver=\"default\", teams =\"ALL\" ,custom=False)\n"
   ]
  },
  {
   "cell_type": "markdown",
   "id": "42033de0",
   "metadata": {},
   "source": [
    "After you've launched your tests by entering the command \"bash TEST.sh\" and have compiled your results with \"bash COMPILER.sh\", transfer over the results from \"compiledResults.csv\", which should be found in the folder where you launched the tests from.\n",
    "\n",
    "Take Determinism9.csv and Determinism4.csv, put them into the data folder, and replace my default results. "
   ]
  },
  {
   "cell_type": "code",
   "execution_count": 7,
   "id": "cfa03598",
   "metadata": {},
   "outputs": [],
   "source": [
    "import pandas as pd\n",
    "import numpy as np\n",
    "import matplotlib.pyplot as plt\n",
    "import torch"
   ]
  },
  {
   "cell_type": "code",
   "execution_count": 8,
   "id": "e808e799",
   "metadata": {},
   "outputs": [
    {
     "name": "stdout",
     "output_type": "stream",
     "text": [
      "     round     node  cpus   driver  team                    model         1  \\\n",
      "0   round4  charlie    10  default  id-0                 ARM-UMBC  0.550720   \n",
      "1   round4  charlie    10  default  id-0             Cassandra-XF       NaN   \n",
      "2   round4  charlie    10  default  id-0                   DRAFFT  0.214908   \n",
      "3   round4  charlie    10  default  id-0                   Hector       NaN   \n",
      "4   round4  charlie    10  default  id-0                 IceTorch       NaN   \n",
      "5   round4  charlie    10  default  id-0                     ICSI       NaN   \n",
      "6   round4  charlie    10  default  id-0                 ICSI-UMD  0.950000   \n",
      "7   round4  charlie    10  default  id-0            NIST-baseline       NaN   \n",
      "8   round4  charlie    10  default  id-0                     NSEC       NaN   \n",
      "9   round4  charlie    10  default  id-0                Perspecta       NaN   \n",
      "10  round4  charlie    10  default  id-0            Perspecta-IUB  0.566667   \n",
      "11  round4  charlie    10  default  id-0  Perspecta-PurdueRutgers  0.200000   \n",
      "12  round4  charlie    10  default  id-0                  PL-GIFT       NaN   \n",
      "13  round4  charlie    10  default  id-0         TrinitySRITrojAI       NaN   \n",
      "14  round4  charlie    10  default  id-0     TrinitySRITrojAI-SBU       NaN   \n",
      "15  round4  charlie    10  default  id-0                 trojaicy       NaN   \n",
      "\n",
      "           2         3  \n",
      "0   0.472560  0.435470  \n",
      "1        NaN       NaN  \n",
      "2   0.214908  0.214908  \n",
      "3        NaN       NaN  \n",
      "4        NaN       NaN  \n",
      "5        NaN       NaN  \n",
      "6   0.950000  0.950000  \n",
      "7        NaN       NaN  \n",
      "8        NaN       NaN  \n",
      "9        NaN       NaN  \n",
      "10  0.566667  0.566667  \n",
      "11  0.200000  0.200000  \n",
      "12       NaN       NaN  \n",
      "13       NaN       NaN  \n",
      "14       NaN       NaN  \n",
      "15       NaN       NaN  \n",
      "     round     node  cpus   driver                      team model         1  \\\n",
      "0   round9  charlie    10  default                  ARM-UCSD  id-0  1.000000   \n",
      "1   round9  charlie    10  default                    ICSI-1  id-0       NaN   \n",
      "2   round9  charlie    10  default                    ICSI-2  id-0  0.586529   \n",
      "3   round9  charlie    10  default                  ICSI-UMD  id-0  0.630969   \n",
      "4   round9  charlie    10  default                 Perspecta  id-0       NaN   \n",
      "5   round9  charlie    10  default             Perspecta-IUB  id-0  0.744225   \n",
      "6   round9  charlie    10  default   Perspecta-PurdueRutgers  id-0  0.931000   \n",
      "7   round9  charlie    10  default                   PL-GIFT  id-0  0.916623   \n",
      "8   round9  charlie    10  default          TrinitySRITrojAI  id-0  0.878968   \n",
      "9   round9  charlie    10  default  TrinitySRITrojAI-BostonU  id-0  0.520973   \n",
      "10  round9  charlie    10  default      TrinitySRITrojAI-SBU  id-0  0.888182   \n",
      "11  round9  charlie    10  default            trojai-example  id-0  0.545530   \n",
      "\n",
      "           2         3  \n",
      "0   1.000000  1.000000  \n",
      "1        NaN       NaN  \n",
      "2   0.547174  0.806829  \n",
      "3   0.630969  0.630969  \n",
      "4        NaN       NaN  \n",
      "5   0.744224  0.693376  \n",
      "6   0.931000       NaN  \n",
      "7   0.970532  0.990000  \n",
      "8   0.878968  0.878968  \n",
      "9   0.529819  0.530159  \n",
      "10  0.962173  0.882991  \n",
      "11  0.327353  0.135666  \n",
      "{'round4': ['id-0'], 'round9': ['ARM-UCSD', 'ICSI-UMD', 'Perspecta-PurdueRutgers', 'TrinitySRITrojAI']}\n",
      "{'round4': array(['id-0'], dtype=object), 'round9': array(['ARM-UCSD', 'ICSI-1', 'ICSI-2', 'ICSI-UMD', 'Perspecta',\n",
      "       'Perspecta-IUB', 'Perspecta-PurdueRutgers', 'PL-GIFT',\n",
      "       'TrinitySRITrojAI', 'TrinitySRITrojAI-BostonU',\n",
      "       'TrinitySRITrojAI-SBU', 'trojai-example'], dtype=object)}\n"
     ]
    }
   ],
   "source": [
    "# rough floating point error to account for fractional outputs whose standard deviation might be imprecise \n",
    "epsilon = 1e-10\n",
    "\n",
    "deterministicContainers = {}\n",
    "runningContainers = {}\n",
    "\n",
    "def findDeterministic(filepath):\n",
    "    df = pd.read_csv(filepath,index_col = False)\n",
    "    print(df)\n",
    "    df.dropna(how=\"any\", axis = 1)\n",
    "    runningContainers[df['round'].unique()[0]] = df['team'].unique()\n",
    "    df['STD'] = df[['1','2','3']].std(axis=1)\n",
    "    df = df[df['STD'] < epsilon]\n",
    "    # feel free to use the pd.DataFrame.to_csv() method to convert dataframes to csv files\n",
    "    return df \n",
    "\n",
    "#Generate a dict with deterministic containers from round 4 and 9\n",
    "def deterministicList(df) :\n",
    "    templ = []\n",
    "    for team in df['team'].unique():\n",
    "        templ.append(team)\n",
    "    deterministicContainers[df['round'].unique()[0]] = templ\n",
    "\n",
    "deterministicList(findDeterministic(r\"data/Determinism4.csv\"))\n",
    "deterministicList(findDeterministic(r\"data/Determinism9.csv\"))\n",
    "\n",
    "print(deterministicContainers)\n",
    "print(runningContainers)\n",
    "\n",
    "    \n"
   ]
  },
  {
   "cell_type": "markdown",
   "id": "2637481b",
   "metadata": {},
   "source": [
    "## Core Count tests\n",
    " \n",
    "##### Deterministic Containers\n",
    "Running a deterministic container once with a single core and then a second time with 10 cores should suffice to see if cpu core count has a measurable impact on results.\n",
    "\n",
    "##### Non-Deterministic Containers\n",
    "We didn't end up presenting any findings about this class of algorithm but if I were to test them, here's what I would do:\n",
    "\n",
    "For non-deterministic containers I recommend ~10 runs on core counts of 3 different magnitudes (for my tests I chose 1, 5, 10, 21, 30, and 40) Then for each pair I'd recommend using a statistical test such as a Kolmogorov-Smirnov Test to verify that all results originiate from the same distribution. "
   ]
  },
  {
   "cell_type": "code",
   "execution_count": 9,
   "id": "55790619",
   "metadata": {},
   "outputs": [],
   "source": [
    "#Round 9 CPU Core Tests\n",
    "auto(9,node=NODE ,homedir = HOMEDIR, iterations=1,cpus=10,model=0,driver=\"default\", teams =deterministicContainers['round9'] ,custom=False)\n",
    "auto(9,node=NODE ,homedir = HOMEDIR, iterations=1,cpus=1,model=0,driver=\"default\", teams =deterministicContainers['round9'] ,custom=False)\n",
    "\n",
    "#Round 4 CPU Core Tests \n",
    "#auto(4,node=NODE ,homedir = HOMEDIR, iterations=1,cpus=10,model=0,driver=\"default\", teams =deterministicContainers['round4'] ,custom=False)\n",
    "#auto(4,node=NODE ,homedir = HOMEDIR, iterations=1,cpus=1,model=0,driver=\"default\", teams =deterministicContainers['round4'] ,custom=False)\n"
   ]
  },
  {
   "cell_type": "code",
   "execution_count": 10,
   "id": "09daa946",
   "metadata": {},
   "outputs": [],
   "source": [
    "#Round 9 CPU Core Tests\n",
    "compiler(9,node=NODE , experiment = \"CoresDeterminism9\",homedir = HOMEDIR, iterations=1,cpus=10,model=0,driver=\"default\", teams =deterministicContainers['round9'] ,custom=False)\n",
    "compiler(9,node=NODE, experiment = \"CoresDeterminism9\" ,homedir = HOMEDIR, iterations=1,cpus=1,model=0,driver=\"default\", teams =deterministicContainers['round9'] ,custom=False)\n",
    "\n",
    "#Round 4 CPU Core Tests \n",
    "#compiler(4,node=NODE, experiment = \"CoresDeterminism4\" ,homedir = HOMEDIR, iterations=1,cpus=10,model=0,driver=\"default\", teams =deterministicContainers['round4'] ,custom=False)\n",
    "#compiler(4,node=NODE, experiment = \"CoresDeterminism4\" ,homedir = HOMEDIR, iterations=1,cpus=1,model=0,driver=\"default\", teams =deterministicContainers['round4'] ,custom=False)\n"
   ]
  },
  {
   "cell_type": "code",
   "execution_count": 11,
   "id": "b28b9fe1",
   "metadata": {},
   "outputs": [],
   "source": [
    "# input is csv with columns: \"round,node,cpus,driver,team,model,1,2,3,4,5,6,7,8 ...\"\n",
    "\n",
    "#r4Cores = pd.read_csv(r\"data/CoresDeterminism4.csv\")\n",
    "#r9Cores = pd.read_csv(r\"data/CoresDeterminism9.csv\")\n",
    "\n",
    "\n",
    "def deterministicCPU(df):\n",
    "    teams = df['teams'].unique()\n",
    "    cores = df['cpus'].unique()\n",
    "    \n",
    "    outDf = pd.DataFrame(columns = ['cpus', 'team','AVG', 'STD'], index = None)\n",
    "\n",
    "    for team in teams: \n",
    "        for core in cores:\n",
    "            outDf.loc[len(outDf.index)] = [core, team, \n",
    "            np.average(df[(df['cpus'] == core) & (df['team'] == team)].values[0][6:]), \n",
    "            np.std(df[(df['cpus'] == core) & (df['team'] == team)].values[0][6:])]\n",
    "    \n",
    "    return outDf\n",
    "\n",
    "# The output DataFrame should look like the table below except with AVG and STD columns instead of 'probability'\n",
    "# Due to time constraints I was not able to get a clean set of data that would work with the above program. \n"
   ]
  },
  {
   "attachments": {
    "exampletable.png": {
     "image/png": "[encoded data removed]"
    }
   },
   "cell_type": "markdown",
   "id": "3c30cf2f",
   "metadata": {},
   "source": [
    "![exampletable.png](attachment:exampletable.png)"
   ]
  },
  {
   "cell_type": "markdown",
   "id": "3ef5e1a8",
   "metadata": {},
   "source": [
    "## Model Tweaks "
   ]
  },
  {
   "cell_type": "markdown",
   "id": "87a3b2f6",
   "metadata": {},
   "source": [
    "Using my model tweaking code (SEE BELOW), I tweaked a model 10 different times at both the 16 and 32 bit level. The values obatained from testing the tweaked models was graphed alongside all other data obtained on machines I could use - these machines were of course running the untweaked version of the model. \n",
    "\n"
   ]
  },
  {
   "cell_type": "code",
   "execution_count": 12,
   "id": "c24f35d3",
   "metadata": {},
   "outputs": [],
   "source": [
    "#method that tweaks a given ratio of pytorch AI model parameters by the smallest amount in a random direction \n",
    "def tweak(modelfilepath, outputfile,bits):\n",
    "    \n",
    "    model = torch.load(modelfilepath)\n",
    "    model.requires_grad_(False)\n",
    "    \n",
    "    for tensor in model.parameters():\n",
    "        PM32 = torch.from_numpy(np.random.choice(a=[np.inf, -np.inf], size =tensor.size(), p=[0.5,0.5]))\n",
    "        PM16 = np.random.choice(a=[np.inf, -np.inf], size =tensor.size(), p=[0.5,0.5])\n",
    "\n",
    "        if bits == 32:\n",
    "            temp = np.nextafter(tensor,PM32,dtype=np.float32)\n",
    "            temp = np.nextafter(temp,PM32,dtype=np.float32)\n",
    "\n",
    "        elif bits == 16:\n",
    "            temp = tensor.detach().numpy().astype('float16')\n",
    "            temp = np.nextafter(temp,PM16,dtype=np.float16)\n",
    "            temp = temp.astype('float32')\n",
    "            temp = torch.from_numpy(temp)\n",
    "        \n",
    "        # change p value to change share of parameters that get \"tweaked\" default is 50%\n",
    "        mask = torch.from_numpy(np.random.choice(a=[True,False], size = tensor.size(), p=[0.5, 0.5]))\n",
    "        tensor[mask] = temp[mask]\n",
    "\n",
    "    model.requires_grad_(True)\n",
    "    torch.save(model,f=outputfile)\n",
    "        \n"
   ]
  },
  {
   "cell_type": "markdown",
   "id": "8e0b6fee",
   "metadata": {},
   "source": [
    "After successfully tweaking the models, I transferred them to the NIST HPC Database and ran 10 of them from round 9 - chose an array of different models. I only included 16 bit tweaks here because 32 bit tweaks were too small to make a difference"
   ]
  },
  {
   "cell_type": "code",
   "execution_count": 13,
   "id": "4996ff59",
   "metadata": {},
   "outputs": [],
   "source": [
    "#driver = \"default\"\n",
    "\n",
    "#auto(9, node=NODE ,homedir = HOMEDIR, iterations=10, cpus=10, model=0, driver=driver, teams = deterministicContainers['round9'], custom=True, bits = 16)\n",
    "#auto(9, node=NODE ,homedir = HOMEDIR, iterations=10, cpus=10, model=3, driver=driver, teams = deterministicContainers['round9'], custom=True, bits = 16)\n",
    "#auto(9, node=NODE ,homedir = HOMEDIR, iterations=10, cpus=10, model=8, driver=driver, teams = deterministicContainers['round9'], custom=True, bits = 32)\n",
    "#auto(9, node=NODE ,homedir = HOMEDIR, iterations=10, cpus=10, model=12, driver=driver, teams = deterministicContainers['round9'], custom=True, bits = 32)\n",
    "\n",
    "#compiler(9, experiment = \"tweakTests16bit\", node=NODE ,homedir = HOMEDIR, iterations=10, cpus=10, model=0, driver=driver, teams = deterministicContainers['round9'], custom=True)\n",
    "#compiler(9, experiment = \"tweakTests16bit\", node=NODE ,homedir = HOMEDIR, iterations=10, cpus=10, model=3, driver=driver, teams = deterministicContainers['round9'], custom=True)\n",
    "#compiler(9, experiment = \"tweakTests16bit\", node=NODE ,homedir = HOMEDIR, iterations=10, cpus=10, model=8, driver=driver, teams = deterministicContainers['round9'], custom=True)\n",
    "#compiler(9, experiment = \"tweakTests16bit\", node=NODE ,homedir = HOMEDIR, iterations=10, cpus=10, model=12, driver=driver, teams = deterministicContainers['round9'], custom=True)\n"
   ]
  },
  {
   "cell_type": "code",
   "execution_count": 14,
   "id": "3e381d2d",
   "metadata": {},
   "outputs": [
    {
     "data": {
      "image/png": "[encoded data removed]",
      "text/plain": [
       "<Figure size 432x216 with 1 Axes>"
      ]
     },
     "metadata": {
      "needs_background": "light"
     },
     "output_type": "display_data"
    }
   ],
   "source": [
    "# script used to generate histogram plots for Model tweaks\n",
    "#df = pd.read_csv(r\"data/tweakTests16bit\")\n",
    "\n",
    "#print your model options \n",
    "#print(df['model'].unique())\n",
    "\n",
    "#filter by singular model using below code \n",
    "#df16input = df[df['model'] == \"INSERT MODEL OPTION HERE\"]\n",
    "\n",
    "df16_TrinityExample = pd.read_csv( HOMEDIR + r\"\\data\\16bitTrinitySRI.csv\")\n",
    "df32_TrinityExample = pd.read_csv(HOMEDIR + r\"\\data\\32bitTrinitySRI.csv\")\n",
    "dfOther_TrinityExample = pd.read_csv(HOMEDIR + r\"\\data\\AllMachines_TrinitySRI.csv\")\n",
    "\n",
    "\n",
    "# filter by singular model \n",
    "def tweakplot(df16, dfother,df32):\n",
    "    plt.figure(figsize=(6,3))\n",
    "    l = []\n",
    "    bins = set()\n",
    "    dftype = type(pd.DataFrame())\n",
    "    \n",
    "    if type(df16) == dftype:\n",
    "        # [:6] slicing is based off csv file having shape => round,node,cpus,driver,team,model,1,2,3 ...\n",
    "        data16 = df16.drop(columns = df16.columns[:6])\n",
    "        data16 = data16.values.tolist()\n",
    "        # line below flattens a 2d array into 1 dimension\n",
    "        data16 = [x for xs in data16 for x in xs] \n",
    "        \n",
    "        for data in data16:\n",
    "            bins.add(data)\n",
    "\n",
    "        l.append(data16)\n",
    "\n",
    "    if type(df32) == dftype: \n",
    "        data32 =  df32.drop(columns = df32.columns[:6])\n",
    "        data32 = data32.values.tolist()\n",
    "        data32 = [x for xs in data32 for x in xs] \n",
    "\n",
    "        for data in data32:\n",
    "            bins.add(data)\n",
    "\n",
    "\n",
    "        l.append(data32)\n",
    "\n",
    "    if type(dfother) == dftype:\n",
    "        othermachines = dfother['1'].tolist()\n",
    "\n",
    "        for data in othermachines:\n",
    "            bins.add(data)\n",
    "\n",
    "        l.append(othermachines)\n",
    "\n",
    "    # scale range as needed \n",
    "\n",
    "    avg = np.average(l[0])\n",
    "    std = np.std(l[0])\n",
    "\n",
    "    plt.hist(l, alpha=0.6, color=[\"r\", \"b\", 'g'][:len(l)],range = (avg - 2 * std, avg + 2 * std), bins = len(bins))\n",
    "    # change title as needed \n",
    "    plt.title(\"all results for model 3 with TrinitySRITrojAI algorithm\")\n",
    "    plt.legend([\"16bits\" , \"other machines\", \"32bits\"])\n",
    "    plt.show()\n",
    "\n",
    "# Example plot as used in presentation \n",
    "tweakplot(df16_TrinityExample, df32_TrinityExample, dfOther_TrinityExample)"
   ]
  },
  {
   "cell_type": "markdown",
   "id": "61a601ab",
   "metadata": {},
   "source": [
    "## GPU Driver Tests\n",
    "\n",
    "We ran all containers 3 times on different GPU drivers and then constructed a dataframe where the columns represented different detector algorithms and the rows were different GPU drivers. The raw code we used to do this is in the gitlab. Due to time constraints, however, I wasn't able to clean it up. Therefore I will instead provide an example csv that I made using the code.\n",
    "\n",
    "To add the dates, you'll have to access the \"version\" part of the submissions tree. \n",
    "\n",
    "Some of the different drivers I tested were: \n",
    "515.43.04, 510.73.08, 495.29.05, 470.129.06\n",
    "\n",
    "on a RTX 3090 GPU"
   ]
  },
  {
   "cell_type": "code",
   "execution_count": 15,
   "id": "e3712c22",
   "metadata": {},
   "outputs": [],
   "source": [
    "drivers = ['515.43.04', '510.73.08', '495.29.05', '470.129.06']\n",
    "# on the RTX 3090 GPU \n",
    "\n",
    "# manually increment the index \n",
    "driver = drivers[0]\n",
    "# manually change GPU driver on desired node\n",
    "\n",
    "# Round 9 GPU Driver tests\n",
    "auto(9, node=NODE ,homedir = HOMEDIR, iterations=3, cpus=10, model=0, driver=driver, teams = deterministicContainers['round9'], custom=False)\n",
    "compiler(9, node=NODE, experiment = \"driverTests9\", homedir = HOMEDIR, iterations=3, cpus=10, model=0, driver=driver, teams = deterministicContainers['round9'], custom=False)\n",
    "\n",
    "# Round 4 GPU driver tests \n",
    "#auto(4, node=NODE ,homedir = HOMEDIR, iterations=3, cpus=10, model=0, driver=driver, teams = deterministicContainers['round4'], custom=False)\n",
    "#compiler(4, node=NODE, experiment = \"driverTests4\", homedir = HOMEDIR, iterations=3, cpus=10, model=0, driver=driver, teams = deterministicContainers['round4'], custom=False)\n"
   ]
  },
  {
   "cell_type": "code",
   "execution_count": 16,
   "id": "ba5094d1",
   "metadata": {},
   "outputs": [
    {
     "name": "stdout",
     "output_type": "stream",
     "text": [
      "           ARM-UCSD ICSI-2 ICSI-UMD Perspecta-IUB Perspecta-PurdueRutgers  \\\n",
      "460.106.00      NaN    NaN      0.0       0.18498                     NaN   \n",
      "470.129.06      0.0    NaN      0.0      0.302763                     0.0   \n",
      "495.29.05       0.0    NaN      0.0      0.304974                     0.0   \n",
      "510.73.08       0.0    NaN      0.0      0.286386                     0.0   \n",
      "515.43.04       0.0    NaN      0.0      0.301045                     0.0   \n",
      "\n",
      "             PL-GIFT TrinitySRITrojAI TrinitySRITrojAI-BostonU  \\\n",
      "460.106.00       0.0              0.0                 0.043339   \n",
      "470.129.06  0.007309              0.0                 0.056161   \n",
      "495.29.05   0.007309              0.0                 0.104211   \n",
      "510.73.08        0.0              0.0    80302952425786.296875   \n",
      "515.43.04   0.007309              0.0                 0.038133   \n",
      "\n",
      "           TrinitySRITrojAI-SBU trojai-example  \n",
      "460.106.00             0.004258            NaN  \n",
      "470.129.06             0.007015            NaN  \n",
      "495.29.05              0.013951            NaN  \n",
      "510.73.08              0.008599            NaN  \n",
      "515.43.04              0.002087            NaN  \n"
     ]
    }
   ],
   "source": [
    "#inp4 = pd.read_csv(r\"data/driverTests4\")\n",
    "#inp9 = pd.read_csv(r\"data/driverTests4\")\n",
    "\n",
    "ex9 = pd.read_csv(r\"C:\\Users\\jal20\\2022-surf-trojai\\documentation\\data\\driversTests.csv\")\n",
    "\n",
    "def driveranalysis(df):\n",
    "    \n",
    "    outDf = pd.DataFrame(columns = df['team'].unique(), index = df['driver'].unique())\n",
    "    \n",
    "    for team in df['team'].unique():\n",
    "        for driver in df['driver'].unique():\n",
    "            if (len(df[(df['team'] == team) & (df['driver'] == driver)].values) > 0):\n",
    "                outDf.at[driver,team] = np.std(df[(df['team'] == team) & (df['driver'] == driver)].values[0][6:])\n",
    "    \n",
    "    return outDf\n",
    "\n",
    "\n",
    "df = driveranalysis(ex9)\n",
    "print(df)"
   ]
  },
  {
   "cell_type": "markdown",
   "id": "64e58ca8",
   "metadata": {},
   "source": [
    "The above Code should return a table with the standard deviations of the algorithms tested indexed by driver \n",
    "\n",
    "Note that the cell entries contain the average probabilities and not the standard deviations - the table produced by the above code has the standard deviations in the cells instead of the averages. "
   ]
  },
  {
   "attachments": {
    "outputexample2.png": {
     "image/png": "[encoded data removed]"
    }
   },
   "cell_type": "markdown",
   "id": "22fe1605",
   "metadata": {},
   "source": [
    "![outputexample2.png](attachment:outputexample2.png)"
   ]
  }
 ],
 "metadata": {
  "kernelspec": {
   "display_name": "Python 3 (ipykernel)",
   "language": "python",
   "name": "python3"
  },
  "language_info": {
   "codemirror_mode": {
    "name": "ipython",
    "version": 3
   },
   "file_extension": ".py",
   "mimetype": "text/x-python",
   "name": "python",
   "nbconvert_exporter": "python",
   "pygments_lexer": "ipython3",
   "version": "3.9.12"
  },
  "vscode": {
   "interpreter": {
    "hash": "7e60b79db0409528e56ea9f697cc55111e50475102dfe8fcdb042ed7281040d4"
   }
  }
 },
 "nbformat": 4,
 "nbformat_minor": 5
}
